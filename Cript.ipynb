{
 "cells": [
  {
   "cell_type": "code",
   "execution_count": 1,
   "id": "9331c50b",
   "metadata": {},
   "outputs": [
    {
     "name": "stdout",
     "output_type": "stream",
     "text": [
      "   Row ID        Order ID  Order Date   Ship Date       Ship Mode Customer ID  \\\n",
      "0       1  CA-2017-152156  08/11/2017  11/11/2017    Second Class    CG-12520   \n",
      "1       2  CA-2017-152156  08/11/2017  11/11/2017    Second Class    CG-12520   \n",
      "2       3  CA-2017-138688  12/06/2017  16/06/2017    Second Class    DV-13045   \n",
      "3       4  US-2016-108966  11/10/2016  18/10/2016  Standard Class    SO-20335   \n",
      "4       5  US-2016-108966  11/10/2016  18/10/2016  Standard Class    SO-20335   \n",
      "\n",
      "     Customer Name    Segment        Country             City       State  \\\n",
      "0      Claire Gute   Consumer  United States        Henderson    Kentucky   \n",
      "1      Claire Gute   Consumer  United States        Henderson    Kentucky   \n",
      "2  Darrin Van Huff  Corporate  United States      Los Angeles  California   \n",
      "3   Sean O'Donnell   Consumer  United States  Fort Lauderdale     Florida   \n",
      "4   Sean O'Donnell   Consumer  United States  Fort Lauderdale     Florida   \n",
      "\n",
      "   Postal Code Region       Product ID         Category Sub-Category  \\\n",
      "0      42420.0  South  FUR-BO-10001798        Furniture    Bookcases   \n",
      "1      42420.0  South  FUR-CH-10000454        Furniture       Chairs   \n",
      "2      90036.0   West  OFF-LA-10000240  Office Supplies       Labels   \n",
      "3      33311.0  South  FUR-TA-10000577        Furniture       Tables   \n",
      "4      33311.0  South  OFF-ST-10000760  Office Supplies      Storage   \n",
      "\n",
      "                                        Product Name     Sales  \n",
      "0                  Bush Somerset Collection Bookcase  261.9600  \n",
      "1  Hon Deluxe Fabric Upholstered Stacking Chairs,...  731.9400  \n",
      "2  Self-Adhesive Address Labels for Typewriters b...   14.6200  \n",
      "3      Bretford CR4500 Series Slim Rectangular Table  957.5775  \n",
      "4                     Eldon Fold 'N Roll Cart System   22.3680  \n"
     ]
    }
   ],
   "source": [
    "import pandas as pd\n",
    "\n",
    "# Supondo que o arquivo esteja na raiz do projeto\n",
    "df = pd.read_csv(\"train.csv\")\n",
    "\n",
    "# Se estiver numa subpasta:\n",
    "# df = pd.read_csv(\"data/train.csv\")\n",
    "\n",
    "print(df.head())  # Exibe as primeiras linhas da base\n"
   ]
  },
  {
   "cell_type": "code",
   "execution_count": null,
   "id": "ff3ea6ab",
   "metadata": {},
   "outputs": [],
   "source": [
    "pd.set_option('display.float_format', '{:,.2f}'.format)\n",
    "sns.set(style=\"whitegrid\")"
   ]
  },
  {
   "cell_type": "code",
   "execution_count": null,
   "id": "3a84bf45",
   "metadata": {},
   "outputs": [],
   "source": [
    "df = pd.read_csv(\"train.csv\", parse_dates=[\"Order Date\", \"Ship Date\"])\n"
   ]
  },
  {
   "cell_type": "code",
   "execution_count": null,
   "id": "f5cf57cd",
   "metadata": {},
   "outputs": [],
   "source": [
    "df[\"Delivery Time (days)\"] = (df[\"Ship Date\"] - df[\"Order Date\"]).dt.days"
   ]
  },
  {
   "cell_type": "code",
   "execution_count": null,
   "id": "d2728101",
   "metadata": {},
   "outputs": [],
   "source": [
    "# ANÁLISE 1: Vendas por região, cliente, produto ou tempo"
   ]
  },
  {
   "cell_type": "code",
   "execution_count": null,
   "id": "2437ae2b",
   "metadata": {},
   "outputs": [],
   "source": [
    "sales_by_region = df.groupby(\"Region\")[\"Sales\"].sum().sort_values(ascending=False)"
   ]
  },
  {
   "cell_type": "code",
   "execution_count": null,
   "id": "d83e7d10",
   "metadata": {},
   "outputs": [],
   "source": [
    "sales_by_customer = df.groupby(\"Customer Name\")[\"Sales\"].sum().sort_values(ascending=False).head(10)"
   ]
  },
  {
   "cell_type": "code",
   "execution_count": null,
   "id": "fec2adba",
   "metadata": {},
   "outputs": [],
   "source": [
    "sales_by_product = df.groupby(\"Product Name\")[\"Sales\"].sum().sort_values(ascending=False).head(10)"
   ]
  },
  {
   "cell_type": "code",
   "execution_count": null,
   "id": "80ca417e",
   "metadata": {},
   "outputs": [],
   "source": [
    "df[\"Year-Month\"] = df[\"Order Date\"].dt.to_period(\"M\")\n",
    "sales_by_month = df.groupby(\"Year-Month\")[\"Sales\"].sum()"
   ]
  },
  {
   "cell_type": "code",
   "execution_count": null,
   "id": "1cca574b",
   "metadata": {},
   "outputs": [],
   "source": [
    "sales_by_region.plot(kind=\"bar\", title=\"Vendas por Região\")\n",
    "plt.ylabel(\"Total de Vendas (R$)\")\n",
    "plt.show()\n"
   ]
  },
  {
   "cell_type": "code",
   "execution_count": null,
   "id": "0da348d0",
   "metadata": {},
   "outputs": [],
   "source": [
    "sales_by_customer.plot(kind=\"barh\", title=\"Top 10 Clientes por Vendas\")\n",
    "plt.xlabel(\"Total de Vendas (R$)\")\n",
    "plt.gca().invert_yaxis()\n",
    "plt.show()"
   ]
  },
  {
   "cell_type": "code",
   "execution_count": null,
   "id": "1dfbd763",
   "metadata": {},
   "outputs": [],
   "source": [
    "sales_by_product.plot(kind=\"barh\", title=\"Top 10 Produtos mais Lucrativos\")\n",
    "plt.xlabel(\"Total de Vendas (R$)\")\n",
    "plt.gca().invert_yaxis()\n",
    "plt.show()"
   ]
  },
  {
   "cell_type": "code",
   "execution_count": null,
   "id": "4fc8f333",
   "metadata": {},
   "outputs": [],
   "source": [
    "sales_by_month.plot(title=\"Vendas Mensais\")\n",
    "plt.ylabel(\"Vendas\")\n",
    "plt.xticks(rotation=45)\n",
    "plt.show()"
   ]
  },
  {
   "cell_type": "code",
   "execution_count": null,
   "id": "37184611",
   "metadata": {},
   "outputs": [],
   "source": [
    "# ANÁLISE 2: Produtos mais vendidos e mais lucrativos"
   ]
  },
  {
   "cell_type": "code",
   "execution_count": null,
   "id": "d23592b8",
   "metadata": {},
   "outputs": [],
   "source": [
    "most_sold = df[\"Product Name\"].value_counts().head(10)\n",
    "most_profitable = df.groupby(\"Product Name\")[\"Sales\"].sum().sort_values(ascending=False).head(10)\n",
    "\n",
    "print(\"Top 10 Produtos mais vendidos:\\n\", most_sold)\n",
    "print(\"\\nTop 10 Produtos mais lucrativos:\\n\", most_profitable)\n"
   ]
  },
  {
   "cell_type": "code",
   "execution_count": null,
   "id": "ec792bf4",
   "metadata": {},
   "outputs": [],
   "source": [
    "# ANÁLISE 3: Tempo médio de entrega"
   ]
  },
  {
   "cell_type": "code",
   "execution_count": null,
   "id": "bc1610aa",
   "metadata": {},
   "outputs": [],
   "source": [
    "avg_delivery_by_region = df.groupby(\"Region\")[\"Delivery Time (days)\"].mean().sort_values()\n",
    "\n",
    "avg_delivery_by_region.plot(kind=\"barh\", title=\"Tempo Médio de Entrega por Região\")\n",
    "plt.xlabel(\"Dias\")\n",
    "plt.show()"
   ]
  },
  {
   "cell_type": "code",
   "execution_count": null,
   "id": "bc2d847f",
   "metadata": {},
   "outputs": [],
   "source": [
    "# ANÁLISE 4: Segmentação de clientes (por total de compras)"
   ]
  },
  {
   "cell_type": "code",
   "execution_count": null,
   "id": "0bab50ff",
   "metadata": {},
   "outputs": [],
   "source": [
    "customer_segmentation = df.groupby(\"Customer Name\")[\"Sales\"].agg([\"sum\", \"count\"])\n",
    "customer_segmentation.columns = [\"Total Comprado\", \"Frequência de Pedidos\"]\n",
    "customer_segmentation[\"Ticket Médio\"] = customer_segmentation[\"Total Comprado\"] / customer_segmentation[\"Frequência de Pedidos\"]"
   ]
  },
  {
   "cell_type": "code",
   "execution_count": null,
   "id": "10c5f11f",
   "metadata": {},
   "outputs": [],
   "source": [
    "# Exibir top 10 por total\n",
    "print(\"\\nTop 10 clientes por valor total:\\n\", customer_segmentation.sort_values(by=\"Total Comprado\", ascending=False).head(10))"
   ]
  },
  {
   "cell_type": "code",
   "execution_count": null,
   "id": "7540c18c",
   "metadata": {},
   "outputs": [],
   "source": [
    "# ANÁLISE 5: Tendência temporal (sazonalidade)\n",
    "\n",
    "plt.figure(figsize=(10, 5))\n",
    "sns.lineplot(x=sales_by_month.index.astype(str), y=sales_by_month.values)\n",
    "plt.title(\"Tendência de Vendas Mensais\")\n",
    "plt.xlabel(\"Ano-Mês\")\n",
    "plt.ylabel(\"Vendas\")\n",
    "plt.xticks(rotation=45)\n",
    "plt.tight_layout()\n",
    "plt.show()"
   ]
  },
  {
   "cell_type": "code",
   "execution_count": null,
   "id": "823314bf",
   "metadata": {},
   "outputs": [],
   "source": [
    "df.to_csv(\"train_tratada.csv\", index=False)"
   ]
  }
 ],
 "metadata": {
  "kernelspec": {
   "display_name": "Python 3",
   "language": "python",
   "name": "python3"
  },
  "language_info": {
   "codemirror_mode": {
    "name": "ipython",
    "version": 3
   },
   "file_extension": ".py",
   "mimetype": "text/x-python",
   "name": "python",
   "nbconvert_exporter": "python",
   "pygments_lexer": "ipython3",
   "version": "3.12.1"
  }
 },
 "nbformat": 4,
 "nbformat_minor": 5
}
